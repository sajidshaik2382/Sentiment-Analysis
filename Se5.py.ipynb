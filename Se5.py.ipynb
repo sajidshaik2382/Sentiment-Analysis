{
 "cells": [
  {
   "cell_type": "code",
   "execution_count": 1,
   "id": "e0c3dddd",
   "metadata": {},
   "outputs": [
    {
     "ename": "IndentationError",
     "evalue": "unexpected indent (2340065125.py, line 7)",
     "output_type": "error",
     "traceback": [
      "\u001b[1;36m  Cell \u001b[1;32mIn[1], line 7\u001b[1;36m\u001b[0m\n\u001b[1;33m    model = pickle.load(file)\u001b[0m\n\u001b[1;37m    ^\u001b[0m\n\u001b[1;31mIndentationError\u001b[0m\u001b[1;31m:\u001b[0m unexpected indent\n"
     ]
    }
   ],
   "source": [
    "import streamlit as st\n",
    "import pickle\n",
    "from sklearn.feature_extraction.text import TfidfVectorizer\n",
    "from PIL import Image\n",
    "# Load the saved model\n",
    "with open(\"naive_bayes_model.pkl\", \"rb\") as file:a\n",
    "    model = pickle.load(file)\n",
    "# Load the saved TfidfVectorizer\n",
    "with open(\"tfidf_vectorizer.pkl\", \"rb\") as file:\n",
    "    vectorizer = pickle.load(file)\n",
    "# Streamlit app code\n",
    "st.title(\"Sentiment Analysis App\")\n",
    "st.markdown(\"By Sajid\")\n",
    "image = Image.open(\"sentiment.png\")\n",
    "st.image(image, use_column_width=True)\n",
    "\n",
    "st.subheader(\"Enter your text here:\")\n",
    "user_input = st.text_area(\"\")\n",
    "# Create a predict button\n",
    "if st.button(\"Predict\"):\n",
    "    # Preprocess the input text\n",
    "    text_vectorized = vectorizer.transform([user_input])\n",
    "    # Make predictions\n",
    "    prediction = model.predict(text_vectorized)[0]\n",
    "    st.header(\"Prediction:\")\n",
    "    # Display the predicted sentiment\n",
    "    if prediction == 'negative':\n",
    "        st.subheader(\"The sentiment of given text is: Negative\")\n",
    "    elif prediction == 'neutral':\n",
    "        st.subheader(\"The sentiment of given text is: Neutral\")\n",
    "    elif prediction == 'positive':\n",
    "        st.subheader(\"The sentiment of given text is: Positive\")"
   ]
  },
  {
   "cell_type": "code",
   "execution_count": null,
   "id": "d8b71784",
   "metadata": {},
   "outputs": [],
   "source": []
  },
  {
   "cell_type": "code",
   "execution_count": null,
   "id": "9fad5fd4",
   "metadata": {},
   "outputs": [],
   "source": []
  }
 ],
 "metadata": {
  "kernelspec": {
   "display_name": "Python 3 (ipykernel)",
   "language": "python",
   "name": "python3"
  },
  "language_info": {
   "codemirror_mode": {
    "name": "ipython",
    "version": 3
   },
   "file_extension": ".py",
   "mimetype": "text/x-python",
   "name": "python",
   "nbconvert_exporter": "python",
   "pygments_lexer": "ipython3",
   "version": "3.11.3"
  }
 },
 "nbformat": 4,
 "nbformat_minor": 5
}
